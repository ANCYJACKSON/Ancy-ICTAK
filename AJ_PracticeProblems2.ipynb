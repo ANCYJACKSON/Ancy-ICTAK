{
  "nbformat": 4,
  "nbformat_minor": 0,
  "metadata": {
    "colab": {
      "provenance": []
    },
    "kernelspec": {
      "name": "python3",
      "display_name": "Python 3"
    },
    "language_info": {
      "name": "python"
    }
  },
  "cells": [
    {
      "cell_type": "code",
      "source": [
        "# 1. Write a Python program to accept a string value from the user and display the count of each character in that string. S\n",
        "#       Sample input: Enter a string value: assembly\n",
        "#       Sample output: a=1, s=2, e=1, m=1, b=1, l=1, y=1\n",
        "input_string = \"Assembly\"\n",
        "print(\"Enter a string value:\", input_string)\n",
        "charset = set(input_string)\n",
        "for x in charset:\n",
        "    charcount = 0\n",
        "    for alph in input_string:\n",
        "        if alph == x:\n",
        "            charcount += 1\n",
        "    print(\"Count of character '{}' is {}\".format(x, charcount))"
      ],
      "metadata": {
        "colab": {
          "base_uri": "https://localhost:8080/"
        },
        "id": "Vp087efoxxO_",
        "outputId": "6999992f-a77c-4e8b-b6f7-1f865248d3e2"
      },
      "execution_count": 14,
      "outputs": [
        {
          "output_type": "stream",
          "name": "stdout",
          "text": [
            "Enter a string value: Assembly\n",
            "Count of character 'y' is 1\n",
            "Count of character 's' is 2\n",
            "Count of character 'A' is 1\n",
            "Count of character 'm' is 1\n",
            "Count of character 'l' is 1\n",
            "Count of character 'b' is 1\n",
            "Count of character 'e' is 1\n"
          ]
        }
      ]
    },
    {
      "cell_type": "code",
      "source": [
        "# 2. Write a Python function to find the maximum of three numbers\n",
        "#       Sample input: 34,12,7\n",
        "#       Sample output: 34\n",
        "num_list = [34,12,7]\n",
        "print(max(num_list), 'is the maximum value in the list', num_list)"
      ],
      "metadata": {
        "colab": {
          "base_uri": "https://localhost:8080/"
        },
        "id": "xGIi7QOUzxrj",
        "outputId": "d57905a4-f806-4e35-df2d-93e2adb9ce6f"
      },
      "execution_count": 15,
      "outputs": [
        {
          "output_type": "stream",
          "name": "stdout",
          "text": [
            "34 is the maximum value in the list [34, 12, 7]\n"
          ]
        }
      ]
    },
    {
      "cell_type": "code",
      "source": [
        "# 3. Write a Python function called exponent(base,exp) that returns an integer value of base raises to the power of exp.\n",
        "#       Sample input: Enter the base: 2\n",
        "#                     Enter the exponent: 3\n",
        "#       Sample output: 8\n",
        "base=int(input('Enter the base: '))\n",
        "exp=int(input('Enter the Exponent: '))\n",
        "print (\"Exponential Value is: \", base ** exp)"
      ],
      "metadata": {
        "colab": {
          "base_uri": "https://localhost:8080/"
        },
        "id": "TdHbJSlj1hpy",
        "outputId": "df417cbc-8525-449a-a608-68ef7601e769"
      },
      "execution_count": 21,
      "outputs": [
        {
          "output_type": "stream",
          "name": "stdout",
          "text": [
            "Enter the base: 2\n",
            "Enter the Exponent: 3\n",
            "Exponential Value is:  8\n"
          ]
        }
      ]
    },
    {
      "cell_type": "code",
      "source": [
        "# 4. Write a Python function that takes a positive integer and returns the sum of the cube of all positive integers smaller than the specified number.\n",
        "#     Sample input: 4\n",
        "#     Sample output: 36.\n",
        "\n",
        "intgr=int(input('Enter the integer: '))\n",
        "def sum_of_cubes(n):\n",
        "  n=n-1\n",
        "  sum = 0\n",
        "  while n > 0:\n",
        "    sum = sum + n**3\n",
        "    n=n-1\n",
        "  return sum\n",
        "print(\"Sum of cubes: \",sum_of_cubes(4))"
      ],
      "metadata": {
        "colab": {
          "base_uri": "https://localhost:8080/"
        },
        "id": "y-OqUsM43i_c",
        "outputId": "ff3038bf-26c9-4124-baba-271ffa78d6d0"
      },
      "execution_count": 27,
      "outputs": [
        {
          "output_type": "stream",
          "name": "stdout",
          "text": [
            "Enter the integer: 4\n",
            "Sum of cubes:  36\n"
          ]
        }
      ]
    },
    {
      "cell_type": "code",
      "source": [
        "# 5. Write a Python program which iterates from 1 to 10. For multiples of 2, print “Fizz” instead of the number and for the multiples of 5,\n",
        "# print “Buzz”. For numbers which are multiples of both 2 and 5, print “FizzBuzz”.\n",
        "#       Sample input: numbers from 1 to 10\n",
        "#       Sample output: 1 Fizz 3 Fizz Buzz Fizz 7 Fizz 9 FizzBuzz\n",
        "for i in range(1, 11):\n",
        "  if ((i%2==0) and (i%5==0)):\n",
        "    print('FizzBuzz')\n",
        "  elif i%2==0:\n",
        "    print('Fizz')\n",
        "  elif i%5==0:\n",
        "    print('Buzz')\n",
        "  else:\n",
        "    print(i)"
      ],
      "metadata": {
        "colab": {
          "base_uri": "https://localhost:8080/"
        },
        "id": "Nb1lYJqD8v51",
        "outputId": "5fe78fbd-1632-42c4-8af6-e91f0063b3f7"
      },
      "execution_count": 42,
      "outputs": [
        {
          "output_type": "stream",
          "name": "stdout",
          "text": [
            "1\n",
            "Fizz\n",
            "3\n",
            "Fizz\n",
            "Buzz\n",
            "Fizz\n",
            "7\n",
            "Fizz\n",
            "9\n",
            "FizzBuzz\n"
          ]
        }
      ]
    },
    {
      "cell_type": "code",
      "source": [
        "# 6. Write a Python program to find the most frequent item in a list of numbers.\n",
        "#       Sample input: 2, 3, 4, 2, 5, 2\n",
        "#       Sample output: 2\n",
        "\n",
        "def most_frequent(nums):\n",
        "    return max(set(nums), key=nums.count)\n",
        "nums = [2, 3, 4, 2, 5, 2]\n",
        "print(\"\\nOriginal list:\")\n",
        "print(nums)\n",
        "print(\"Item with the maximum frequency in the list:\")\n",
        "print(most_frequent(nums))"
      ],
      "metadata": {
        "colab": {
          "base_uri": "https://localhost:8080/"
        },
        "id": "OJAndmEqAAIv",
        "outputId": "cd0ad256-f5ab-4b4c-c3be-94b013e0bf2d"
      },
      "execution_count": 6,
      "outputs": [
        {
          "output_type": "stream",
          "name": "stdout",
          "text": [
            "\n",
            "Original list:\n",
            "[2, 3, 4, 2, 5, 2]\n",
            "Item with the maximum frequency in the list:\n",
            "2\n"
          ]
        }
      ]
    },
    {
      "cell_type": "code",
      "source": [
        "# 7. Write a Python program to find the sum of squares of the numbers in a list.\n",
        "#       Sample input: 2,1,3,1\n",
        "#       Sample output: 15\n",
        "\n",
        "inp_list = [2,1,3,1]\n",
        "print(\"Original list is : \" + str(inp_list))\n",
        "res = sum([i**2 for i in inp_list])\n",
        "print(\"Sum of squares of numbers in the list is : \" + str(res))"
      ],
      "metadata": {
        "colab": {
          "base_uri": "https://localhost:8080/"
        },
        "id": "IxzM0amBMsvs",
        "outputId": "4a8312e4-7bab-47f0-e1cb-4d5969657c3a"
      },
      "execution_count": 13,
      "outputs": [
        {
          "output_type": "stream",
          "name": "stdout",
          "text": [
            "Original list is : [2, 1, 3, 1]\n",
            "Sum of squares of numbers in the list is : 15\n"
          ]
        }
      ]
    },
    {
      "cell_type": "code",
      "source": [
        "# 8. Write a Python program using for loop that will iterate from 1 to 15. For each iteration, check if the current number is odd or even, and\n",
        "# display the message to the screen as odd or even.\n",
        "#       Sample input: 1….15\n",
        "#       Sample output: 1-odd 2-even …. 15-odd\n",
        "\n",
        "for i in range(1, 16):\n",
        "  if (i%2==0):\n",
        "    print(i, ' - Even')\n",
        "  else:\n",
        "    print(i, ' - Odd')"
      ],
      "metadata": {
        "colab": {
          "base_uri": "https://localhost:8080/"
        },
        "id": "ON8P7u1FOFUT",
        "outputId": "082c8448-a440-4d09-951c-a2d8200d2ffe"
      },
      "execution_count": 16,
      "outputs": [
        {
          "output_type": "stream",
          "name": "stdout",
          "text": [
            "1  - Odd\n",
            "2  - Even\n",
            "3  - Odd\n",
            "4  - Even\n",
            "5  - Odd\n",
            "6  - Even\n",
            "7  - Odd\n",
            "8  - Even\n",
            "9  - Odd\n",
            "10  - Even\n",
            "11  - Odd\n",
            "12  - Even\n",
            "13  - Odd\n",
            "14  - Even\n",
            "15  - Odd\n"
          ]
        }
      ]
    },
    {
      "cell_type": "code",
      "source": [
        "# 9. Write a Python program to convert temperatures to and from Celsius Fahrenheit. [Formula: c/5=f-32/9 where c=temperature in Celsius and\n",
        "# f=temperature in Fahrenheit.]\n",
        "#       Sample input: Temperature in Fahrenheit=41\n",
        "#       Sample output: Temperature in Celsius =5\n",
        "fah=float(input('Enter the temperature in Fahrenheit: '))\n",
        "cel=(((fah-32)*5)/9)\n",
        "print (\"Temperature in Celcius: \", float(cel))"
      ],
      "metadata": {
        "colab": {
          "base_uri": "https://localhost:8080/"
        },
        "id": "Mo2OtJxMO-W6",
        "outputId": "36f74b5b-bfe9-4a70-e603-b6f600240a07"
      },
      "execution_count": 25,
      "outputs": [
        {
          "output_type": "stream",
          "name": "stdout",
          "text": [
            "Enter the temperature in Fahrenheit: 41\n",
            "Temperature in Celcius:  5.0\n"
          ]
        }
      ]
    },
    {
      "cell_type": "code",
      "source": [
        "# 10. Write a Python function to calculate the factorial of a number (a nonnegative integer). The function accepts the number as an argument.\n",
        "#       Sample input: 3\n",
        "#       Sample output: 6\n",
        "n = int (input (\"Enter a number: \"))\n",
        "fact = 1\n",
        "if n >= 1:\n",
        "    for i in range (1, n+1):\n",
        "        fact=fact *i\n",
        "print(\"Factorial of the given number is: \", fact)"
      ],
      "metadata": {
        "colab": {
          "base_uri": "https://localhost:8080/"
        },
        "id": "K-QniVxxSUnG",
        "outputId": "70560fe7-f6e0-4aa0-9ebb-fef3c8c0da0b"
      },
      "execution_count": 27,
      "outputs": [
        {
          "output_type": "stream",
          "name": "stdout",
          "text": [
            "Enter a number: 3\n",
            "Factorial of the given number is:  6\n"
          ]
        }
      ]
    }
  ]
}