{
  "nbformat": 4,
  "nbformat_minor": 0,
  "metadata": {
    "colab": {
      "provenance": []
    },
    "kernelspec": {
      "name": "python3",
      "display_name": "Python 3"
    },
    "language_info": {
      "name": "python"
    }
  },
  "cells": [
    {
      "cell_type": "code",
      "execution_count": null,
      "metadata": {
        "colab": {
          "base_uri": "https://localhost:8080/"
        },
        "id": "vW3aTSN6bgxB",
        "outputId": "0082fd7b-ec6a-4f18-88af-345ee888a34b"
      },
      "outputs": [
        {
          "output_type": "stream",
          "name": "stdout",
          "text": [
            "Enter the radius of the circle: 3\n",
            "Area of Circle:  28.285714285714285\n"
          ]
        }
      ],
      "source": [
        "#  1. Write a Python program which accepts the radius of a circle from the user and compute the area.\n",
        "\n",
        "Radius=int(input('Enter the radius of the circle: '))\n",
        "Area=(22/7)*(Radius**2)\n",
        "print('Area of Circle: ',Area)"
      ]
    },
    {
      "cell_type": "code",
      "source": [
        "#  2. Write a Python Program to accept the details of a student like name, roll number and mark and display it.\n",
        "       ## Sample input\n",
        "   ## Enter the name: Anisha\n",
        "   ## Enter the roll number: 21\n",
        "   ## Enter the mark: 78\n",
        "      ## Sample output\n",
        "   ## Name: Anisha\n",
        "   ## Roll No: 21\n",
        "   ## Mark: 78\n",
        "stud_name = input('Enter the name of the student : ')\n",
        "stud_rlno = int(input('Enter the roll number: '))\n",
        "stud_mark = float(input('Enter the marks: '))\n",
        "print('Name of the student: ',stud_name)\n",
        "print('Roll Number: ',stud_rlno)\n",
        "print('Marks: ',stud_mark)"
      ],
      "metadata": {
        "id": "ekug14pjc46e",
        "colab": {
          "base_uri": "https://localhost:8080/"
        },
        "outputId": "107a1a69-7e66-453b-c72e-2eec97423af2"
      },
      "execution_count": null,
      "outputs": [
        {
          "output_type": "stream",
          "name": "stdout",
          "text": [
            "Enter the name of the student : Anisha\n",
            "Enter the roll number: 21\n",
            "Enter the marks: 78\n",
            "Name of the student:  Anisha\n",
            "Roll Number:  21\n",
            "Marks:  78.0\n"
          ]
        }
      ]
    },
    {
      "cell_type": "code",
      "source": [
        "# 3. Write a Python program to get the largest number from a list.\n",
        "     # Sample input: 12, 3, 47, 10\n",
        "     # Sample output: 47 is the largest number\n",
        "\n",
        "num_list = [12,3,47,10]\n",
        "print(max(num_list), 'is the largest number in the list', num_list)"
      ],
      "metadata": {
        "id": "SJ1gjxVcOAMh",
        "colab": {
          "base_uri": "https://localhost:8080/",
          "height": 0
        },
        "outputId": "b73ddbaf-a2a4-48ce-98b1-da32a96445d2"
      },
      "execution_count": 3,
      "outputs": [
        {
          "output_type": "stream",
          "name": "stdout",
          "text": [
            "47 is the largest number in the list [12, 3, 47, 10]\n"
          ]
        }
      ]
    },
    {
      "cell_type": "code",
      "source": [
        "# 4. Given a range of first 10 numbers, write a Python program to iterate from start number to the end number and print the sum of the current number\n",
        "# and previous number.\n",
        "num = list(range(1,10))\n",
        "prev_num=0\n",
        "for i in num:\n",
        "  print(i+prev_num)\n",
        "  prev_num=i"
      ],
      "metadata": {
        "id": "b_3Jyk-s_N-3",
        "colab": {
          "base_uri": "https://localhost:8080/",
          "height": 0
        },
        "outputId": "345d9777-0d6d-442b-d8f1-d80fb1192532"
      },
      "execution_count": 7,
      "outputs": [
        {
          "output_type": "stream",
          "name": "stdout",
          "text": [
            "1\n",
            "3\n",
            "5\n",
            "7\n",
            "9\n",
            "11\n",
            "13\n",
            "15\n",
            "17\n"
          ]
        }
      ]
    },
    {
      "cell_type": "code",
      "source": [
        "# 5. Write a Python program to print only those numbers which are divisible of 5.\n",
        "    # Sample input: 10, 20,33,46,55\n",
        "    # Sample output: 10, 20, 55\n",
        "num=[10,20,33,46,55]\n",
        "for i in num:\n",
        " if i%5==0:\n",
        "  print(i, 'is a divisible of 5')"
      ],
      "metadata": {
        "colab": {
          "base_uri": "https://localhost:8080/",
          "height": 0
        },
        "id": "TXIFB0fxS1dO",
        "outputId": "9576e11c-cc97-4a08-8acd-ae2061edc290"
      },
      "execution_count": 14,
      "outputs": [
        {
          "output_type": "stream",
          "name": "stdout",
          "text": [
            "10 is a divisible of 5\n",
            "20 is a divisible of 5\n",
            "55 is a divisible of 5\n"
          ]
        }
      ]
    },
    {
      "cell_type": "code",
      "source": [
        "# 6. Write a Python program to check whether a number is prime or not.\n",
        "      # Sample input: Enter the number: 3\n",
        "      # Sample output: 3 is a prime number.\n",
        "num = int(input('Enter the number: '))\n",
        "for i in range(2,num):\n",
        "  if num%i==0:\n",
        "    print(num,'is not a prime number')\n",
        "    break\n",
        "else:\n",
        " print(num,'is a prime number')"
      ],
      "metadata": {
        "colab": {
          "base_uri": "https://localhost:8080/",
          "height": 0
        },
        "id": "lI7HmLPVVQ0C",
        "outputId": "88f84075-b8b6-4536-8ce3-2f3eccf8a3f5"
      },
      "execution_count": 26,
      "outputs": [
        {
          "output_type": "stream",
          "name": "stdout",
          "text": [
            "Enter the number: 13\n",
            "13 is a prime number\n"
          ]
        }
      ]
    },
    {
      "cell_type": "code",
      "source": [
        "# 7. Write a Python program to reverse a list using for loop.\n",
        "      # Sample input: 10,40,30,70\n",
        "      # Sample output: 70,30,40,10\n",
        "rev_list = []\n",
        "org_list = [10,40,30,70]\n",
        "for i in range(len(org_list)) :\n",
        "    rev_list.append(org_list[len(org_list) - i - 1])\n",
        "\n",
        "print('Original List :', org_list)\n",
        "print('Reversed List: ', rev_list)"
      ],
      "metadata": {
        "colab": {
          "base_uri": "https://localhost:8080/",
          "height": 0
        },
        "id": "o7Bea2sPYaqk",
        "outputId": "f68625d3-aa6f-4677-a4b6-617afdcc9d24"
      },
      "execution_count": 1,
      "outputs": [
        {
          "output_type": "stream",
          "name": "stdout",
          "text": [
            "Original List : [10, 40, 30, 70]\n",
            "Reversed List:  [70, 30, 40, 10]\n"
          ]
        }
      ]
    },
    {
      "cell_type": "code",
      "source": [
        "# 8. Write a Python program to print the following pattern.\n",
        "#       *\n",
        "#       **\n",
        "#       ***\n",
        "#       ****\n",
        "for pat in range(1,5):\n",
        "  print('*'*pat)\n"
      ],
      "metadata": {
        "colab": {
          "base_uri": "https://localhost:8080/",
          "height": 0
        },
        "id": "fk0VstMYC9Mk",
        "outputId": "3c599697-2f39-4076-a4f5-534ee4862af7"
      },
      "execution_count": 9,
      "outputs": [
        {
          "output_type": "stream",
          "name": "stdout",
          "text": [
            "*\n",
            "**\n",
            "***\n",
            "****\n"
          ]
        }
      ]
    },
    {
      "cell_type": "code",
      "source": [
        "# Write a Python program to find the maximum of three numbers\n",
        "#     Sample input: 34,12,7\n",
        "#     Sample output: 34\n",
        "num_list = [34,12,7]\n",
        "print(max(num_list), 'is the maximum value in the list', num_list)"
      ],
      "metadata": {
        "colab": {
          "base_uri": "https://localhost:8080/",
          "height": 0
        },
        "id": "XA06abUpFOFZ",
        "outputId": "b078be84-a08c-424a-e4e1-4e30d94c4b6d"
      },
      "execution_count": 11,
      "outputs": [
        {
          "output_type": "stream",
          "name": "stdout",
          "text": [
            "34 is the maximum value in the list [34, 12, 7]\n"
          ]
        }
      ]
    },
    {
      "cell_type": "code",
      "source": [
        "# 10. Write a Python program to construct the following pattern, using a nested for loop.\n",
        "#    *\n",
        "#    **\n",
        "#    ***\n",
        "#    ****\n",
        "#    *****\n",
        "#    ****\n",
        "#    ***\n",
        "#    **\n",
        "#    *\n",
        "\n",
        "for i in range(1,6):\n",
        "  print('*'*i)\n",
        "for i in range(4,0,-1):\n",
        "  print('*'*i)"
      ],
      "metadata": {
        "colab": {
          "base_uri": "https://localhost:8080/",
          "height": 0
        },
        "id": "M2lYgRfyF1yI",
        "outputId": "1b3d57b6-f9b9-490f-c748-84a9944e564d"
      },
      "execution_count": 23,
      "outputs": [
        {
          "output_type": "stream",
          "name": "stdout",
          "text": [
            "*\n",
            "**\n",
            "***\n",
            "****\n",
            "*****\n",
            "****\n",
            "***\n",
            "**\n",
            "*\n"
          ]
        }
      ]
    }
  ]
}